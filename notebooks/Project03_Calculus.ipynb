Inside Jupyter Notebook:

Copy all the gradient descent + sklearn comparison code we already ran.

Add markdown explanations (like mini report).
